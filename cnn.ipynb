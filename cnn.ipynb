{
  "nbformat": 4,
  "nbformat_minor": 0,
  "metadata": {
    "colab": {
      "provenance": [],
      "authorship_tag": "ABX9TyPB1PUl44PxJ++9UBEO48SM",
      "include_colab_link": true
    },
    "kernelspec": {
      "name": "python3",
      "display_name": "Python 3"
    },
    "language_info": {
      "name": "python"
    }
  },
  "cells": [
    {
      "cell_type": "markdown",
      "metadata": {
        "id": "view-in-github",
        "colab_type": "text"
      },
      "source": [
        "<a href=\"https://colab.research.google.com/github/christy726/Convolutional_Neural_Network/blob/main/cnn.ipynb\" target=\"_parent\"><img src=\"https://colab.research.google.com/assets/colab-badge.svg\" alt=\"Open In Colab\"/></a>"
      ]
    },
    {
      "cell_type": "code",
      "execution_count": 65,
      "metadata": {
        "id": "U6OobxjeOBKL"
      },
      "outputs": [],
      "source": [
        "from tensorflow.keras.datasets import mnist\n",
        "from tensorflow.keras.models import Sequential\n",
        "from tensorflow.keras.layers import Dense,Flatten, Conv2D, MaxPooling2D, BatchNormalization, Dropout\n",
        "from tensorflow.keras.utils    import to_categorical\n",
        "import numpy as np\n",
        "from matplotlib import pyplot as plt"
      ]
    },
    {
      "cell_type": "code",
      "source": [
        "(xtrain, ytrain), (xtest, ytest) = mnist.load_data()\n",
        "xtrain = xtrain.reshape(60000, 28, 28, 1)\n",
        "xtest = xtest.reshape (10000, 28, 28, 1)\n",
        "ytrain = to_categorical(ytrain, 10)\n",
        "ytest = to_categorical(ytest, 10)"
      ],
      "metadata": {
        "id": "Slv72enyOLaT"
      },
      "execution_count": 30,
      "outputs": []
    },
    {
      "cell_type": "code",
      "source": [
        "#1 INPUT-> CONV-> RELU-> FC\n",
        "Samkhya = Sequential()\n",
        "Samkhya.add(Conv2D(1, (3,3), padding=\"same\", input_shape=xtrain.shape[1:], activation='relu'))\n",
        "Samkhya.add(Flatten())\n",
        "Samkhya.add(Dense(10, activation='softmax'))\n",
        "\n",
        "Samkhya.compile(loss='categorical_crossentropy')\n",
        "Samkhya.fit(xtrain, ytrain, epochs=1, verbose=1)\n",
        "print(Samkhya.evaluate(xtest, ytest, verbose=1))\n",
        "#print(np.argmax(Samkhya.predict(xtest[0:1]), axis=1))\n",
        "plt.imshow(xtest[0])\n",
        "print(np.argmax(Samkhya.predict(xtest[0:1]),axis=1))"
      ],
      "metadata": {
        "colab": {
          "base_uri": "https://localhost:8080/",
          "height": 517
        },
        "id": "2Vp1BQ_IXrtD",
        "outputId": "c68aefde-b082-4df9-c900-f41f0d825e23"
      },
      "execution_count": 68,
      "outputs": [
        {
          "output_type": "stream",
          "name": "stdout",
          "text": [
            "1875/1875 [==============================] - 19s 10ms/step - loss: 3.5008\n",
            "313/313 [==============================] - 2s 7ms/step - loss: 0.4355\n",
            "0.4355160593986511\n",
            "1/1 [==============================] - 0s 101ms/step\n",
            "[7]\n"
          ]
        },
        {
          "output_type": "display_data",
          "data": {
            "text/plain": [
              "<Figure size 640x480 with 1 Axes>"
            ],
            "image/png": "[encoded data removed]"
          },
          "metadata": {}
        }
      ]
    },
    {
      "cell_type": "code",
      "source": [
        "#2 INPUT-> [CONV-> RELU-> POOL]*2 -> FC-> RELU-> FC\n",
        "Samkhya = Sequential()\n",
        "\n",
        "Samkhya.add(Conv2D(1, (3,3), padding=\"same\", input_shape=xtrain.shape[1:], activation='relu'))\n",
        "Samkhya.add(MaxPooling2D(pool_size=(2, 2)))\n",
        "\n",
        "Samkhya.add(Conv2D(1, (3,3), padding=\"same\", input_shape=xtrain.shape[1:], activation='relu'))\n",
        "Samkhya.add(MaxPooling2D(pool_size=(2, 2)))\n",
        "\n",
        "Samkhya.add(Flatten())\n",
        "Samkhya.add(Dense(10, activation='relu'))\n",
        "\n",
        "Samkhya.add(Dense(10, activation='softmax'))\n",
        "\n",
        "\n",
        "Samkhya.compile(loss='categorical_crossentropy')\n",
        "Samkhya.fit(xtrain, ytrain, epochs=1, verbose=1)\n",
        "print(Samkhya.evaluate(xtest, ytest, verbose=1))\n",
        "plt.imshow(xtest[0])\n",
        "print(np.argmax(Samkhya.predict(xtest[0:1]),axis=1))"
      ],
      "metadata": {
        "colab": {
          "base_uri": "https://localhost:8080/",
          "height": 517
        },
        "id": "uaBM8knaX4sW",
        "outputId": "7c7eab1f-d8c0-49be-f0d4-87e8248517a3"
      },
      "execution_count": 70,
      "outputs": [
        {
          "output_type": "stream",
          "name": "stdout",
          "text": [
            "1875/1875 [==============================] - 28s 14ms/step - loss: 1.8662\n",
            "313/313 [==============================] - 2s 5ms/step - loss: 0.8241\n",
            "0.8241119980812073\n",
            "1/1 [==============================] - 0s 74ms/step\n",
            "[7]\n"
          ]
        },
        {
          "output_type": "display_data",
          "data": {
            "text/plain": [
              "<Figure size 640x480 with 1 Axes>"
            ],
            "image/png": "[encoded data removed]"
          },
          "metadata": {}
        }
      ]
    },
    {
      "cell_type": "code",
      "source": [
        "#3 INPUT-> [CONV-> RELU-> CONV-> RELU-> POOL]*3 -> [FC-> RELU]*2 ->FC\n",
        "Samkhya = Sequential()\n",
        "\n",
        "Samkhya.add(Conv2D(1, (3,3), padding=\"same\", input_shape=xtrain.shape[1:], activation='relu'))\n",
        "Samkhya.add(Conv2D(1, (3, 3), padding=\"same\", activation='relu'))\n",
        "Samkhya.add(MaxPooling2D(pool_size=(2, 3)))\n",
        "\n",
        "Samkhya.add(Conv2D(1, (3,3), padding=\"same\", input_shape=xtrain.shape[1:], activation='relu'))\n",
        "Samkhya.add(Conv2D(1, (3, 3), padding=\"same\", activation='relu'))\n",
        "Samkhya.add(MaxPooling2D(pool_size=(2, 3)))\n",
        "\n",
        "Samkhya.add(Conv2D(1, (3,3), padding=\"same\", input_shape=xtrain.shape[1:], activation='relu'))\n",
        "Samkhya.add(Conv2D(1, (3, 3), padding=\"same\", activation='relu'))\n",
        "Samkhya.add(MaxPooling2D(pool_size=(2, 3)))\n",
        "\n",
        "\n",
        "Samkhya.add(Flatten())\n",
        "Samkhya.add(Dense(10, activation='relu'))\n",
        "Samkhya.add(Dense(10, activation='relu'))\n",
        "\n",
        "Samkhya.add(Dense(10, activation='softmax'))\n",
        "\n",
        "Samkhya.compile(loss='categorical_crossentropy')\n",
        "Samkhya.fit(xtrain, ytrain, epochs=1, verbose=1)\n",
        "print(Samkhya.evaluate(xtest, ytest, verbose=1))\n",
        "plt.imshow(xtest[0])\n",
        "print(np.argmax(Samkhya.predict(xtest[0:1]),axis=1))"
      ],
      "metadata": {
        "colab": {
          "base_uri": "https://localhost:8080/",
          "height": 517
        },
        "id": "blzc7f6uOWPM",
        "outputId": "72aa3fcb-8d97-4b56-90a6-00b2c66f49c7"
      },
      "execution_count": 72,
      "outputs": [
        {
          "output_type": "stream",
          "name": "stdout",
          "text": [
            "1875/1875 [==============================] - 42s 22ms/step - loss: 1.6792\n",
            "313/313 [==============================] - 3s 8ms/step - loss: 1.2914\n",
            "1.2914237976074219\n",
            "1/1 [==============================] - 0s 121ms/step\n",
            "[7]\n"
          ]
        },
        {
          "output_type": "display_data",
          "data": {
            "text/plain": [
              "<Figure size 640x480 with 1 Axes>"
            ],
            "image/png": "[encoded data removed]"
          },
          "metadata": {}
        }
      ]
    },
    {
      "cell_type": "code",
      "source": [
        "#4 INPUT-> CONV-> RELU-> BN-> CONV-> RELU-> FC-> DROPOUT-> FC-> SOFTMAX\n",
        "Samkhya = Sequential()\n",
        "\n",
        "Samkhya.add(Conv2D(1, (3,3), padding=\"same\", input_shape=xtrain.shape[1:], activation='relu'))\n",
        "Samkhya.add(BatchNormalization())\n",
        "Samkhya.add(Conv2D(1, (3, 3), padding=\"same\", activation='relu'))\n",
        "\n",
        "Samkhya.add(Flatten())\n",
        "Samkhya.add(Dense(10, activation='relu'))\n",
        "Samkhya.add(Dropout(0.5))\n",
        "\n",
        "Samkhya.add(Dense(10, activation='softmax'))\n",
        "\n",
        "\n",
        "Samkhya.compile(loss='categorical_crossentropy')\n",
        "Samkhya.fit(xtrain, ytrain, epochs=1, verbose=1)\n",
        "print(Samkhya.evaluate(xtest, ytest, verbose=1))\n",
        "plt.imshow(xtest[0])\n",
        "print(np.argmax(Samkhya.predict(xtest[0:1]),axis=1))\n"
      ],
      "metadata": {
        "colab": {
          "base_uri": "https://localhost:8080/",
          "height": 517
        },
        "id": "gi8RrrzUZebD",
        "outputId": "5c3ee13c-6d2d-4b4e-bf31-c9fcc9a4e99e"
      },
      "execution_count": 73,
      "outputs": [
        {
          "output_type": "stream",
          "name": "stdout",
          "text": [
            "1875/1875 [==============================] - 33s 17ms/step - loss: 1.4078\n",
            "313/313 [==============================] - 2s 7ms/step - loss: 0.6614\n",
            "0.6613627672195435\n",
            "1/1 [==============================] - 0s 87ms/step\n",
            "[7]\n"
          ]
        },
        {
          "output_type": "display_data",
          "data": {
            "text/plain": [
              "<Figure size 640x480 with 1 Axes>"
            ],
            "image/png": "[encoded data removed]"
          },
          "metadata": {}
        }
      ]
    }
  ]
}