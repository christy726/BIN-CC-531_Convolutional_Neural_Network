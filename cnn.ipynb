{
  "nbformat": 4,
  "nbformat_minor": 0,
  "metadata": {
    "colab": {
      "provenance": [],
      "authorship_tag": "ABX9TyOZzA0/fPKubTSuqDWasNDY",
      "include_colab_link": true
    },
    "kernelspec": {
      "name": "python3",
      "display_name": "Python 3"
    },
    "language_info": {
      "name": "python"
    }
  },
  "cells": [
    {
      "cell_type": "markdown",
      "metadata": {
        "id": "view-in-github",
        "colab_type": "text"
      },
      "source": [
        "<a href=\"https://colab.research.google.com/github/christy726/Convolutional_Neural_Network/blob/main/cnn.ipynb\" target=\"_parent\"><img src=\"https://colab.research.google.com/assets/colab-badge.svg\" alt=\"Open In Colab\"/></a>"
      ]
    },
    {
      "cell_type": "code",
      "execution_count": 55,
      "metadata": {
        "id": "U6OobxjeOBKL"
      },
      "outputs": [],
      "source": [
        "from tensorflow.keras.datasets import mnist\n",
        "from tensorflow.keras.models import Sequential\n",
        "from tensorflow.keras.layers import Dense,Flatten, Conv2D, MaxPooling2D, BatchNormalization, Dropout\n",
        "from tensorflow.keras.utils    import to_categorical\n",
        "import numpy as np"
      ]
    },
    {
      "cell_type": "code",
      "source": [
        "(xtrain, ytrain), (xtest, ytest) = mnist.load_data()\n",
        "xtrain = xtrain.reshape(60000, 28, 28, 1)\n",
        "xtest = xtest.reshape (10000, 28, 28, 1)\n",
        "ytrain = to_categorical(ytrain, 10)\n",
        "ytest = to_categorical(ytest, 10)"
      ],
      "metadata": {
        "id": "Slv72enyOLaT"
      },
      "execution_count": 30,
      "outputs": []
    },
    {
      "cell_type": "code",
      "source": [
        "#FIRST\n",
        "Samkhya = Sequential()\n",
        "Samkhya.add(Conv2D(1, (3,3), padding=\"same\", input_shape=xtrain.shape[1:], activation='relu'))\n",
        "Samkhya.add(Flatten())\n",
        "Samkhya.add(Dense(10, activation='softmax'))"
      ],
      "metadata": {
        "id": "2Vp1BQ_IXrtD"
      },
      "execution_count": 33,
      "outputs": []
    },
    {
      "cell_type": "code",
      "source": [
        "#SECOND\n",
        "Samkhya = Sequential()\n",
        "\n",
        "Samkhya.add(Conv2D(1, (3,3), padding=\"same\", input_shape=xtrain.shape[1:], activation='relu'))\n",
        "Samkhya.add(MaxPooling2D(pool_size=(2, 2)))\n",
        "\n",
        "Samkhya.add(Conv2D(1, (3,3), padding=\"same\", input_shape=xtrain.shape[1:], activation='relu'))\n",
        "Samkhya.add(MaxPooling2D(pool_size=(2, 2)))\n",
        "\n",
        "Samkhya.add(Flatten())\n",
        "Samkhya.add(Dense(10, activation='relu'))\n",
        "\n",
        "Samkhya.add(Dense(10, activation='softmax'))"
      ],
      "metadata": {
        "id": "uaBM8knaX4sW"
      },
      "execution_count": 42,
      "outputs": []
    },
    {
      "cell_type": "code",
      "source": [
        "#THIRD\n",
        "Samkhya = Sequential()\n",
        "\n",
        "Samkhya.add(Conv2D(1, (3,3), padding=\"same\", input_shape=xtrain.shape[1:], activation='relu'))\n",
        "Samkhya.add(Conv2D(1, (3, 3), padding=\"same\", activation='relu'))\n",
        "Samkhya.add(MaxPooling2D(pool_size=(2, 3)))\n",
        "\n",
        "Samkhya.add(Conv2D(1, (3,3), padding=\"same\", input_shape=xtrain.shape[1:], activation='relu'))\n",
        "Samkhya.add(Conv2D(1, (3, 3), padding=\"same\", activation='relu'))\n",
        "Samkhya.add(MaxPooling2D(pool_size=(2, 3)))\n",
        "\n",
        "Samkhya.add(Conv2D(1, (3,3), padding=\"same\", input_shape=xtrain.shape[1:], activation='relu'))\n",
        "Samkhya.add(Conv2D(1, (3, 3), padding=\"same\", activation='relu'))\n",
        "Samkhya.add(MaxPooling2D(pool_size=(2, 3)))\n",
        "\n",
        "\n",
        "Samkhya.add(Flatten())\n",
        "Samkhya.add(Dense(10, activation='relu'))\n",
        "Samkhya.add(Dense(10, activation='relu'))\n",
        "\n",
        "Samkhya.add(Dense(10, activation='softmax'))"
      ],
      "metadata": {
        "id": "blzc7f6uOWPM"
      },
      "execution_count": 45,
      "outputs": []
    },
    {
      "cell_type": "code",
      "source": [
        "#FOURTH\n",
        "Samkhya = Sequential()\n",
        "\n",
        "Samkhya.add(Conv2D(1, (3,3), padding=\"same\", input_shape=xtrain.shape[1:], activation='relu'))\n",
        "Samkhya.add(BatchNormalization())\n",
        "Samkhya.add(Conv2D(1, (3, 3), padding=\"same\", activation='relu'))\n",
        "\n",
        "Samkhya.add(Flatten())\n",
        "Samkhya.add(Dense(10, activation='relu'))\n",
        "#Samkhya.add(Dropout(0.5))\n",
        "\n",
        "Samkhya.add(Dense(10, activation='softmax'))\n",
        "\n"
      ],
      "metadata": {
        "id": "gi8RrrzUZebD"
      },
      "execution_count": 56,
      "outputs": []
    },
    {
      "cell_type": "code",
      "source": [
        "Samkhya.compile(loss='categorical_crossentropy')\n",
        "Samkhya.fit(xtrain, ytrain, epochs=1, verbose=1)\n",
        "print(Samkhya.evaluate(xtest, ytest, verbose=1))\n",
        "print(np.argmax(Samkhya.predict(xtest[0:1]), axis=1))"
      ],
      "metadata": {
        "colab": {
          "base_uri": "https://localhost:8080/"
        },
        "id": "b9_exyN_OaOq",
        "outputId": "bb9f7460-bb40-423d-e2d5-9982a2acd984"
      },
      "execution_count": 57,
      "outputs": [
        {
          "output_type": "stream",
          "name": "stdout",
          "text": [
            "1875/1875 [==============================] - 32s 16ms/step - loss: 0.4592\n",
            "313/313 [==============================] - 2s 7ms/step - loss: 0.2696\n",
            "0.2696073353290558\n",
            "1/1 [==============================] - 0s 117ms/step\n",
            "[7]\n"
          ]
        }
      ]
    }
  ]
}